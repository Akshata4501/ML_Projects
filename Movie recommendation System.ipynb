{
  "cells": [
    {
      "cell_type": "code",
      "execution_count": null,
      "metadata": {
        "colab": {
          "background_save": true
        },
        "id": "aNKjqJ4AJIrs"
      },
      "outputs": [],
      "source": [
        "import os\n",
        "import numpy as np\n",
        "import pandas as pd"
      ]
    },
    {
      "cell_type": "code",
      "execution_count": null,
      "metadata": {
        "colab": {
          "background_save": true
        },
        "id": "XyGYJCkDJJXS"
      },
      "outputs": [],
      "source": [
        "DATASET_LINK='http://files.grouplens.org/datasets/movielens/ml-100k.zip'"
      ]
    },
    {
      "cell_type": "code",
      "execution_count": null,
      "metadata": {
        "colab": {
          "background_save": true
        },
        "id": "Y8KYQt8XJJZ4"
      },
      "outputs": [],
      "source": [
        "!wget -nc http://files.grouplens.org/datasets/movielens/ml-100k.zip\n",
        "!unzip -n ml-100k.zip"
      ]
    },
    {
      "cell_type": "markdown",
      "metadata": {
        "id": "sULfR0jtJfoT"
      },
      "source": [
        "Loading MovieLens dataset"
      ]
    },
    {
      "cell_type": "code",
      "execution_count": null,
      "metadata": {
        "colab": {
          "background_save": true
        },
        "id": "YfjVWavVJJcc"
      },
      "outputs": [],
      "source": [
        "overall_stats = pd.read_csv('ml-100k/u.info', header=None)\n",
        "print(\"Details of users, items and ratings involved in the loaded movielens dataset: \",list(overall_stats[0]))"
      ]
    },
    {
      "cell_type": "markdown",
      "metadata": {
        "id": "1gxiDhCQJmkT"
      },
      "source": [
        "Loading u.data     -- The full u data set, 100000 ratings by 943 users on 1682 items.\n",
        "\n",
        "---\n",
        "\n",
        "\n",
        "\n",
        "              Each user has rated at least 20 movies.  Users and items are\n",
        "              numbered consecutively from 1.  The data is randomly ordered. This is a tab separated list of \n",
        "\t         user id | item id | rating | timestamp. \n",
        "              The time stamps are unix seconds since 1/1/1970 UTC "
      ]
    },
    {
      "cell_type": "code",
      "execution_count": null,
      "metadata": {
        "colab": {
          "background_save": true
        },
        "id": "n4zt9EWcJJez"
      },
      "outputs": [],
      "source": [
        "## same item id is same as movie id, item id column is renamed as movie id\n",
        "column_names1 = ['user id','movie id','rating','timestamp']\n",
        "dataset = pd.read_csv('ml-100k/u.data', sep='\\t',header=None,names=column_names1)\n",
        "dataset.head() "
      ]
    },
    {
      "cell_type": "code",
      "execution_count": null,
      "metadata": {
        "colab": {
          "background_save": true
        },
        "id": "ql4qbD48JJha"
      },
      "outputs": [],
      "source": [
        "len(dataset), max(dataset['movie id']),min(dataset['movie id'])"
      ]
    },
    {
      "cell_type": "markdown",
      "metadata": {
        "id": "JR7teqlzJxq2"
      },
      "source": [
        "Loading u.item     -- Information about the items (movies); this is a tab separated\n",
        "\n",
        "              list of\n",
        "              movie id | movie title | release date | video release date |\n",
        "              IMDb URL | unknown | Action | Adventure | Animation |\n",
        "              Children's | Comedy | Crime | Documentary | Drama | Fantasy |\n",
        "              Film-Noir | Horror | Musical | Mystery | Romance | Sci-Fi |\n",
        "              Thriller | War | Western |\n",
        "              The last 19 fields are the genres, a 1 indicates the movie\n",
        "              is of that genre, a 0 indicates it is not; movies can be in\n",
        "              several genres at once.\n",
        "              The movie ids are the ones used in the u.data data set.\n"
      ]
    },
    {
      "cell_type": "code",
      "execution_count": null,
      "metadata": {
        "colab": {
          "background_save": true
        },
        "id": "7fYPwZfeJJjw"
      },
      "outputs": [],
      "source": [
        "d = 'movie id | movie title | release date | video release date | IMDb URL | unknown | Action | Adventure | Animation | Children | Comedy | Crime | Documentary | Drama | Fantasy | Film-Noir | Horror | Musical | Mystery | Romance | Sci-Fi | Thriller | War | Western'\n",
        "column_names2 = d.split(' | ')\n",
        "print(column_names2)"
      ]
    },
    {
      "cell_type": "code",
      "execution_count": null,
      "metadata": {
        "colab": {
          "background_save": true
        },
        "id": "K9cIoS9fJJlq"
      },
      "outputs": [],
      "source": [
        "items_dataset = pd.read_csv('ml-100k/u.item', sep='|',header=None,names=column_names2,encoding='latin-1')\n",
        "items_dataset"
      ]
    },
    {
      "cell_type": "code",
      "execution_count": null,
      "metadata": {
        "colab": {
          "background_save": true
        },
        "id": "KzWjZ-UiJJnr"
      },
      "outputs": [],
      "source": [
        "movie_dataset = items_dataset[['movie id','movie title']]\n",
        "movie_dataset.head()"
      ]
    },
    {
      "cell_type": "markdown",
      "metadata": {
        "id": "XD8IsVaAKFZN"
      },
      "source": [
        "Looking at length of original items_dataset and length of unique combination of rows in items_dataset after removing movie id column"
      ]
    },
    {
      "cell_type": "code",
      "execution_count": null,
      "metadata": {
        "colab": {
          "background_save": true
        },
        "id": "u6GkIqamJJp0"
      },
      "outputs": [],
      "source": [
        "## looking at length of original items_dataset and length of unique combination of rows in items_dataset after removing movie id column\n",
        "len(items_dataset.groupby(by=column_names2[1:])),len(items_dataset)"
      ]
    },
    {
      "cell_type": "markdown",
      "metadata": {
        "id": "9UE5OnmZKKtP"
      },
      "source": [
        "We can see there are 18 extra movie id's for already mapped movie title and the same duplicate movie id is assigned to the user in the user-item dataset."
      ]
    },
    {
      "cell_type": "markdown",
      "metadata": {
        "id": "tLfZz7IMKODt"
      },
      "source": [
        "#Merging required datasets"
      ]
    },
    {
      "cell_type": "code",
      "execution_count": null,
      "metadata": {
        "colab": {
          "background_save": true
        },
        "id": "gY3PW6QQJJsK"
      },
      "outputs": [],
      "source": [
        "merged_dataset = pd.merge(dataset, movie_dataset, how='inner', on='movie id')\n",
        "merged_dataset.head()"
      ]
    },
    {
      "cell_type": "markdown",
      "metadata": {
        "id": "hrwKh4UPKTvT"
      },
      "source": [
        "A dataset is created from the existing merged dataset by grouping the unique user id and movie title combination and the ratings by a user to the same movie in different instances (timestamps) are averaged and stored in the new dataset."
      ]
    },
    {
      "cell_type": "markdown",
      "metadata": {
        "id": "edSyhbqCKW9F"
      },
      "source": [
        "Example of a multiple rating scenario by an user to a specific movie:"
      ]
    },
    {
      "cell_type": "code",
      "execution_count": null,
      "metadata": {
        "colab": {
          "background_save": true
        },
        "id": "J5e0biVrJJue"
      },
      "outputs": [],
      "source": [
        "merged_dataset[(merged_dataset['movie title'] == 'Chasing Amy (1997)') & (merged_dataset['user id'] == 894)]"
      ]
    },
    {
      "cell_type": "markdown",
      "metadata": {
        "id": "7jtEzmVsLEf-"
      },
      "source": [
        "## Creating a final refined dataset with unique user id, movie name combination and their ratings:\n"
      ]
    },
    {
      "cell_type": "code",
      "execution_count": null,
      "metadata": {
        "colab": {
          "background_save": true
        },
        "id": "gvxLWD7mJJw3"
      },
      "outputs": [],
      "source": [
        "refined_dataset = merged_dataset.groupby(by=['user id','movie title'], as_index=False).agg({\"rating\":\"mean\"})\n",
        "\n",
        "refined_dataset.head()"
      ]
    },
    {
      "cell_type": "markdown",
      "metadata": {
        "id": "SqOsGbIXLJDP"
      },
      "source": [
        "## Creating lists for unique user id's and movie names:"
      ]
    },
    {
      "cell_type": "code",
      "execution_count": null,
      "metadata": {
        "colab": {
          "background_save": true
        },
        "id": "mcomYNTSJJzZ"
      },
      "outputs": [],
      "source": [
        "#list of all users\n",
        "unique_users = refined_dataset['user id'].unique() \n",
        "#creating a list of all movie names in it\n",
        "unique_movies = refined_dataset['movie title'].unique()\n",
        "len(unique_movies),len(unique_users)"
      ]
    },
    {
      "cell_type": "markdown",
      "metadata": {
        "id": "xIFLzCMSLQjw"
      },
      "source": [
        "## Converting user id, movie name column of refined dataset to respective lists:"
      ]
    },
    {
      "cell_type": "code",
      "execution_count": null,
      "metadata": {
        "colab": {
          "background_save": true
        },
        "id": "xsowZg5KJJ2z"
      },
      "outputs": [],
      "source": [
        "users_list = refined_dataset['user id'].tolist()\n",
        "movie_list = refined_dataset['movie title'].tolist()\n",
        "len(users_list),len(movie_list)"
      ]
    },
    {
      "cell_type": "markdown",
      "metadata": {
        "id": "Sr5Ee-LxLWTi"
      },
      "source": [
        "## Extracting ratings into a list:"
      ]
    },
    {
      "cell_type": "code",
      "execution_count": null,
      "metadata": {
        "colab": {
          "background_save": true
        },
        "id": "hWf6ifILLV-P"
      },
      "outputs": [],
      "source": [
        "ratings_list = refined_dataset['rating'].tolist()\n",
        "print(ratings_list)\n",
        "len(ratings_list)"
      ]
    },
    {
      "cell_type": "markdown",
      "metadata": {
        "id": "-n6YSD0vLcoO"
      },
      "source": [
        "## Creating a dictionary to map movie name to their corresponding index in the unique movie name list"
      ]
    },
    {
      "cell_type": "code",
      "execution_count": null,
      "metadata": {
        "colab": {
          "background_save": true
        },
        "id": "o7-rRlGfLV6x"
      },
      "outputs": [],
      "source": [
        "movies_dict = {unique_movies[i] : i for i in range(len(unique_movies))}\n",
        "print(movies_dict)\n",
        "print(len(movies_dict))"
      ]
    },
    {
      "cell_type": "markdown",
      "metadata": {
        "id": "gxsyXoDSLnrp"
      },
      "source": [
        "## Creating a Utility matrix with rows as movies, columns as users, to make the refined dataframe compatible for SVD operations"
      ]
    },
    {
      "cell_type": "code",
      "execution_count": null,
      "metadata": {
        "colab": {
          "background_save": true
        },
        "id": "LzHKVP3-LV4H"
      },
      "outputs": [],
      "source": [
        "## creating a utility matrix for the available data\n",
        "\n",
        "## Creating an empty array with (number of rows = number of movies) and (number of columns = number of users) rows as movies, columns as users\n",
        "\n",
        "utility_matrix = np.asarray([[np.nan for j in range(len(unique_users))] for i in range(len(unique_movies))])\n",
        "print(\"Shape of Utility matrix: \",utility_matrix.shape)\n",
        "\n",
        "for i in range(len(ratings_list)):\n",
        "\n",
        "  ## ith entry in users list and subtract 1 to get the index, we do the same for movies but we already defined a dictionary to get the index.\n",
        "  utility_matrix[movies_dict[movie_list[i]]][users_list[i]-1] = ratings_list[i]\n",
        "\n",
        "utility_matrix"
      ]
    },
    {
      "cell_type": "markdown",
      "metadata": {
        "id": "8s-Mx3cGLuAu"
      },
      "source": [
        "## Normalizing the utility matrix across movies column"
      ]
    },
    {
      "cell_type": "code",
      "execution_count": null,
      "metadata": {
        "colab": {
          "background_save": true
        },
        "id": "bfmJncyVLV17"
      },
      "outputs": [],
      "source": [
        "mask = np.isnan(utility_matrix)\n",
        "masked_arr = np.ma.masked_array(utility_matrix, mask)\n",
        "temp_mask = masked_arr.T\n",
        "rating_means = np.mean(temp_mask, axis=0)\n",
        "\n",
        "filled_matrix = temp_mask.filled(rating_means)\n",
        "filled_matrix = filled_matrix.T\n",
        "filled_matrix = filled_matrix - rating_means.data[:,np.newaxis]"
      ]
    },
    {
      "cell_type": "code",
      "execution_count": null,
      "metadata": {
        "colab": {
          "background_save": true
        },
        "id": "vnzwIpz9LVzi"
      },
      "outputs": [],
      "source": [
        "filled_matrix = filled_matrix.T / np.sqrt(len(movies_dict)-1)\n",
        "filled_matrix"
      ]
    },
    {
      "cell_type": "markdown",
      "metadata": {
        "id": "EdgoYPSoL2ml"
      },
      "source": [
        "Mean values across movies columns are extracted.  \n",
        "Nan's of utility matrix are imputed with mean values extracted.  \n",
        "Later the utility matrix has been normalized across movies to get all ratings to a standard/normal scale."
      ]
    },
    {
      "cell_type": "code",
      "execution_count": null,
      "metadata": {
        "colab": {
          "background_save": true
        },
        "id": "BhrSlUJ3LVxO"
      },
      "outputs": [],
      "source": [
        "filled_matrix.shape"
      ]
    },
    {
      "cell_type": "markdown",
      "metadata": {
        "id": "6isCMo0eL9Ja"
      },
      "source": [
        "## Computing SVD (Singular Value Decomposition) of Utility matrix"
      ]
    },
    {
      "cell_type": "code",
      "execution_count": null,
      "metadata": {
        "colab": {
          "background_save": true
        },
        "id": "lt_C0mJkLVu4"
      },
      "outputs": [],
      "source": [
        "## Computing the SVD of the input matrix\n",
        "\n",
        "U, S, V = np.linalg.svd(filled_matrix)"
      ]
    },
    {
      "cell_type": "markdown",
      "metadata": {
        "id": "56cHaTM2MD66"
      },
      "source": [
        "## Creating a list of Case insensitive movie names for further use"
      ]
    },
    {
      "cell_type": "code",
      "execution_count": null,
      "metadata": {
        "colab": {
          "background_save": true
        },
        "id": "WcIebx2HLVsb"
      },
      "outputs": [],
      "source": [
        "case_insensitive_movies_list = [i.lower() for i in unique_movies]"
      ]
    },
    {
      "cell_type": "markdown",
      "metadata": {
        "id": "zkmwq0czMJXI"
      },
      "source": [
        "## Defining a function to calculate the cosine similarity on the given dataframe and extracting requesting number of closely matched movie indices with the help of numpy einsum which valuates the Einstein summation convention on the operands."
      ]
    },
    {
      "cell_type": "code",
      "execution_count": null,
      "metadata": {
        "colab": {
          "background_save": true
        },
        "id": "mZRjTN8RMLtQ"
      },
      "outputs": [],
      "source": [
        "#Function to calculate the cosine similarity (sorting by most similar and returning the top N)\n",
        "def top_cosine_similarity(data, movie_id, top_n=10):\n",
        "  index = movie_id \n",
        "  movie_row = data[index, :]\n",
        "  magnitude = np.sqrt(np.einsum('ij, ij -> i', data, data))\n",
        "  similarity = np.dot(movie_row, data.T) / (magnitude[index] * magnitude)\n",
        "  sort_indexes = np.argsort(-similarity)\n",
        "  return sort_indexes[:top_n]"
      ]
    },
    {
      "cell_type": "markdown",
      "metadata": {
        "id": "QZBwN-UpMP-m"
      },
      "source": [
        "## Defining a function to get similar movies for the given movie name"
      ]
    },
    {
      "cell_type": "code",
      "execution_count": null,
      "metadata": {
        "colab": {
          "background_save": true
        },
        "id": "E60JDVvaMMvI"
      },
      "outputs": [],
      "source": [
        "#k-principal components to represent movies, movie_id to find recommendations, top_n print n results        \n",
        "def get_similar_movies(movie_name,top_n,k = 50):\n",
        "  # k = 50\n",
        "  # movie_id = 1\n",
        "  # top_n = 10\n",
        "  \n",
        "  sliced = V.T[:, :k] # representative data\n",
        "  movie_id = movies_dict[movie_name]\n",
        "  indexes = top_cosine_similarity(sliced, movie_id, top_n)\n",
        "  print(\" \")\n",
        "  print(\"Top\",top_n,\"movies which are very much similar to the Movie-\",movie_name, \"are: \")\n",
        "  print(\" \")\n",
        "  for i in indexes[1:]:\n",
        "    print(unique_movies[i])"
      ]
    },
    {
      "cell_type": "markdown",
      "metadata": {
        "id": "S3k2za5GMWqg"
      },
      "source": [
        "In SVD decomposition, Where A is a m x n utility matrix, U is a m x r orthogonal left singular matrix, which represents the relationship between users and latent factors, S is a r x r diagonal matrix, which describes the strength of each latent factor and V is a r x n diagonal right singular matrix, which indicates the similarity between items and latent factors. The latent factors here are the characteristics of the items, for example, the genre of the music. The SVD decreases the dimension of the utility matrix A by extracting its latent factors. It maps each user and each item into a r-dimensional latent space. This mapping facilitates a clear representation of relationships between users and items. "
      ]
    },
    {
      "cell_type": "markdown",
      "metadata": {
        "id": "1k_twVdrMZn4"
      },
      "source": [
        "**Dynamically suggesting** movie name from the existing movie corpus we have, based on the user input using try and except architecture."
      ]
    },
    {
      "cell_type": "markdown",
      "metadata": {
        "id": "7D1bZJ-5McyS"
      },
      "source": [
        "Defining a function which outputs movie names as suggestion when the user mis spells the movie name. **User might have intended to type any of these movie names.**"
      ]
    },
    {
      "cell_type": "code",
      "execution_count": null,
      "metadata": {
        "colab": {
          "background_save": true
        },
        "id": "OsO-xSikMcMP"
      },
      "outputs": [],
      "source": [
        "# function which takes input and returns suggestions for the user\n",
        "\n",
        "def get_possible_movies(movie):\n",
        "\n",
        "    temp = ''\n",
        "    possible_movies = case_insensitive_movies_list.copy()\n",
        "    for i in movie :\n",
        "      out = []\n",
        "      temp += i\n",
        "      for j in possible_movies:\n",
        "        if temp in j:\n",
        "          out.append(j)\n",
        "      if len(out) == 0:\n",
        "          return possible_movies\n",
        "      out.sort()\n",
        "      possible_movies = out.copy()\n",
        "\n",
        "    return possible_movies"
      ]
    },
    {
      "cell_type": "markdown",
      "metadata": {
        "id": "pKhIe3jiMizu"
      },
      "source": [
        "This function provides user with **movie name suggestions if movie name is mis-spelled** or **Recommends similar movies to the input movie** if the movie name is valid."
      ]
    },
    {
      "cell_type": "code",
      "execution_count": null,
      "metadata": {
        "colab": {
          "background_save": true
        },
        "id": "hsHFhPfSMMrw"
      },
      "outputs": [],
      "source": [
        "class invalid(Exception):\n",
        "    pass\n",
        "\n",
        "def recommender():\n",
        "    \n",
        "    try:\n",
        "\n",
        "      movie_name = input(\"Enter the Movie name: \")\n",
        "      movie_name_lower = movie_name.lower()\n",
        "      if movie_name_lower not in case_insensitive_movies_list :\n",
        "        raise invalid\n",
        "      else :\n",
        "        # movies_list[case_insensitive_country_names.index(movie_name_lower)]\n",
        "        num_recom = int(input(\"Enter Number of movie recommendations needed: \"))\n",
        "        get_similar_movies(unique_movies[case_insensitive_movies_list.index(movie_name_lower)],num_recom)\n",
        "\n",
        "    except invalid:\n",
        "\n",
        "      possible_movies = get_possible_movies(movie_name_lower)\n",
        "\n",
        "      if len(possible_movies) == len(unique_movies) :\n",
        "        print(\"Movie name entered is does not exist in the list \")\n",
        "      else :\n",
        "        indices = [case_insensitive_movies_list.index(i) for i in possible_movies]\n",
        "        print(\"Entered Movie name is not matching with any movie from the dataset . Please check the below suggestions :\\n\",[unique_movies[i] for i in indices])\n",
        "        print(\"\")\n",
        "        recommender()\n"
      ]
    },
    {
      "cell_type": "code",
      "execution_count": null,
      "metadata": {
        "id": "dpWoyLlWMMpT"
      },
      "outputs": [],
      "source": [
        "recommender()"
      ]
    }
  ],
  "metadata": {
    "colab": {
      "collapsed_sections": [],
      "provenance": []
    },
    "kernelspec": {
      "display_name": "Python 3",
      "name": "python3"
    },
    "language_info": {
      "name": "python"
    }
  },
  "nbformat": 4,
  "nbformat_minor": 0
}